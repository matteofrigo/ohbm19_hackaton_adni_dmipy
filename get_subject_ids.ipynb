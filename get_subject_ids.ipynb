{
 "cells": [
  {
   "cell_type": "code",
   "execution_count": 20,
   "metadata": {},
   "outputs": [],
   "source": [
    "import pandas as pd\n",
    "import os\n",
    "in_dir = \"/Users/franzliem/Desktop/adni/in\""
   ]
  },
  {
   "cell_type": "code",
   "execution_count": 22,
   "metadata": {},
   "outputs": [
    {
     "name": "stdout",
     "output_type": "stream",
     "text": [
      "65 37\n"
     ]
    }
   ],
   "source": [
    "#get_subject_ids\n",
    "df = pd.read_excel(os.path.join(in_dir, \"ADNI3_multishell_20190529_Julio.xlsx\"))\n",
    "hc = df.query(\"FinalDx=='CN'\").SubjectID.tolist()\n",
    "pat = df.query(\"FinalDx!='CN'\").SubjectID.tolist()\n",
    "print(len(hc), len(pat))"
   ]
  },
  {
   "cell_type": "code",
   "execution_count": 23,
   "metadata": {},
   "outputs": [
    {
     "name": "stdout",
     "output_type": "stream",
     "text": [
      "['067_S_2301', '067_S_4767', '067_S_6045', '067_S_4072', '007_S_5265', '007_S_4488', '007_S_4387', '067_S_4184', '067_S_6117', '007_S_6120', '023_S_4164', '023_S_4448', '036_S_6189', '007_S_4620', '007_S_4637', '007_S_1222', '941_S_5124', '007_S_6255', '007_S_6310', '037_S_6187', '037_S_6204', '941_S_1195', '007_S_6323', '007_S_6515', '007_S_6521', '023_S_6346', '023_S_6374', '023_S_6399', '023_S_6400', '023_S_6547', '024_S_6472', '094_S_6485', '941_S_6333', '941_S_6384', '941_S_6422', '941_S_6454', '941_S_6471', '941_S_6495', '941_S_6496', '941_S_6499', '941_S_6546', '036_S_4491', '037_S_6271', '067_S_2304', '067_S_6138', '067_S_6442', '067_S_6443', '128_S_0205', '341_S_6494', '941_S_4376', '941_S_6570', '941_S_6574', '941_S_6575', '941_S_6580', '941_S_6581', '024_S_5290', '067_S_4767', '037_S_4214', '007_S_5265', '007_S_4387', '007_S_4488', '007_S_4637', '007_S_4620', '007_S_6120', '341_S_6653']\n"
     ]
    }
   ],
   "source": [
    "print(hc)"
   ]
  },
  {
   "cell_type": "code",
   "execution_count": 24,
   "metadata": {},
   "outputs": [
    {
     "name": "stdout",
     "output_type": "stream",
     "text": [
      "['007_S_2394', '007_S_4272', '023_S_4115', '037_S_0377', '007_S_6341', '007_S_6421', '023_S_6334', '023_S_6356', '023_S_6369', '023_S_6535', '037_S_6216', '037_S_6222', '037_S_6230', '037_S_6377', '067_S_0059', '067_S_6474', '941_S_6345', '941_S_6392', '941_S_6052', '052_S_4944', '036_S_2380', '036_S_6231', '051_S_5285', '067_S_6529', '128_S_4742', '341_S_6605', '037_S_4030', '067_S_4782', '941_S_6068', '007_S_2394', '002_S_6652', '007_S_4272', '023_S_6661', '037_S_6083', '037_S_6620', '037_S_6627', '067_S_0056']\n"
     ]
    }
   ],
   "source": [
    "print(pat)"
   ]
  },
  {
   "cell_type": "code",
   "execution_count": 38,
   "metadata": {},
   "outputs": [],
   "source": [
    "with open(os.path.join(in_dir,\"subjects.txt\")) as fi:\n",
    "    s = fi.read()\n",
    "s = s.split()\n",
    "s = [x.strip(\"\\n\") for x in s]\n",
    "subject_order = [f.split(\"/\")[-2] for f in s]"
   ]
  },
  {
   "cell_type": "code",
   "execution_count": 41,
   "metadata": {},
   "outputs": [
    {
     "data": {
      "text/html": [
       "<div>\n",
       "<style scoped>\n",
       "    .dataframe tbody tr th:only-of-type {\n",
       "        vertical-align: middle;\n",
       "    }\n",
       "\n",
       "    .dataframe tbody tr th {\n",
       "        vertical-align: top;\n",
       "    }\n",
       "\n",
       "    .dataframe thead th {\n",
       "        text-align: right;\n",
       "    }\n",
       "</style>\n",
       "<table border=\"1\" class=\"dataframe\">\n",
       "  <thead>\n",
       "    <tr style=\"text-align: right;\">\n",
       "      <th></th>\n",
       "      <th>order</th>\n",
       "      <th>fullSubjectID</th>\n",
       "    </tr>\n",
       "  </thead>\n",
       "  <tbody>\n",
       "    <tr>\n",
       "      <th>0</th>\n",
       "      <td>0</td>\n",
       "      <td>002_S_6652_1</td>\n",
       "    </tr>\n",
       "    <tr>\n",
       "      <th>1</th>\n",
       "      <td>1</td>\n",
       "      <td>007_S_1222_1</td>\n",
       "    </tr>\n",
       "    <tr>\n",
       "      <th>2</th>\n",
       "      <td>2</td>\n",
       "      <td>007_S_2394_10</td>\n",
       "    </tr>\n",
       "    <tr>\n",
       "      <th>3</th>\n",
       "      <td>3</td>\n",
       "      <td>007_S_2394_9</td>\n",
       "    </tr>\n",
       "    <tr>\n",
       "      <th>4</th>\n",
       "      <td>4</td>\n",
       "      <td>007_S_4272_10</td>\n",
       "    </tr>\n",
       "  </tbody>\n",
       "</table>\n",
       "</div>"
      ],
      "text/plain": [
       "   order  fullSubjectID\n",
       "0      0   002_S_6652_1\n",
       "1      1   007_S_1222_1\n",
       "2      2  007_S_2394_10\n",
       "3      3   007_S_2394_9\n",
       "4      4  007_S_4272_10"
      ]
     },
     "execution_count": 41,
     "metadata": {},
     "output_type": "execute_result"
    }
   ],
   "source": [
    "df_subject_order = pd.DataFrame({\"fullSubjectID\": subject_order}).reset_index().rename(columns={\"index\": \"order\"})\n",
    "df_subject_order.head()"
   ]
  },
  {
   "cell_type": "code",
   "execution_count": 42,
   "metadata": {},
   "outputs": [],
   "source": [
    "df_full = pd.merge(df_subject_order, df, on=\"fullSubjectID\", how=\"left\").sort_values(by=\"order\")"
   ]
  },
  {
   "cell_type": "code",
   "execution_count": 44,
   "metadata": {},
   "outputs": [
    {
     "data": {
      "text/html": [
       "<div>\n",
       "<style scoped>\n",
       "    .dataframe tbody tr th:only-of-type {\n",
       "        vertical-align: middle;\n",
       "    }\n",
       "\n",
       "    .dataframe tbody tr th {\n",
       "        vertical-align: top;\n",
       "    }\n",
       "\n",
       "    .dataframe thead th {\n",
       "        text-align: right;\n",
       "    }\n",
       "</style>\n",
       "<table border=\"1\" class=\"dataframe\">\n",
       "  <thead>\n",
       "    <tr style=\"text-align: right;\">\n",
       "      <th></th>\n",
       "      <th>order</th>\n",
       "      <th>fullSubjectID</th>\n",
       "      <th>RID</th>\n",
       "      <th>SubjectID</th>\n",
       "      <th>Site</th>\n",
       "      <th>Sex</th>\n",
       "      <th>Age</th>\n",
       "      <th>FinalDx</th>\n",
       "      <th>FinalDx_to_number</th>\n",
       "      <th>VisitCode</th>\n",
       "      <th>...</th>\n",
       "      <th>MMSE_MMSCORE</th>\n",
       "      <th>CDR_CDGLOBAL</th>\n",
       "      <th>CDSOB</th>\n",
       "      <th>TOTSCORE</th>\n",
       "      <th>TOTAL13</th>\n",
       "      <th>MOCA</th>\n",
       "      <th>dwi</th>\n",
       "      <th>bval</th>\n",
       "      <th>bvec</th>\n",
       "      <th>mask</th>\n",
       "    </tr>\n",
       "  </thead>\n",
       "  <tbody>\n",
       "    <tr>\n",
       "      <th>0</th>\n",
       "      <td>0</td>\n",
       "      <td>002_S_6652_1</td>\n",
       "      <td>6652</td>\n",
       "      <td>002_S_6652</td>\n",
       "      <td>2</td>\n",
       "      <td>F</td>\n",
       "      <td>86.4</td>\n",
       "      <td>MCI</td>\n",
       "      <td>2.0</td>\n",
       "      <td>ADNI Screening</td>\n",
       "      <td>...</td>\n",
       "      <td>29.0</td>\n",
       "      <td>NaN</td>\n",
       "      <td>2.5</td>\n",
       "      <td>10.67</td>\n",
       "      <td>16.67</td>\n",
       "      <td>26.0</td>\n",
       "      <td>OUTPUTTING</td>\n",
       "      <td>/ifs/loni/faculty/thompson/four_d/sthomopo/ADN...</td>\n",
       "      <td>/ifs/loni/faculty/thompson/four_d/sthomopo/ADN...</td>\n",
       "      <td>OUTPUTTING</td>\n",
       "    </tr>\n",
       "    <tr>\n",
       "      <th>1</th>\n",
       "      <td>1</td>\n",
       "      <td>007_S_1222_1</td>\n",
       "      <td>1222</td>\n",
       "      <td>007_S_1222</td>\n",
       "      <td>7</td>\n",
       "      <td>F</td>\n",
       "      <td>84.4</td>\n",
       "      <td>CN</td>\n",
       "      <td>1.0</td>\n",
       "      <td>ADNI3 Initial Visit-Cont Pt</td>\n",
       "      <td>...</td>\n",
       "      <td>29.0</td>\n",
       "      <td>0</td>\n",
       "      <td>0.0</td>\n",
       "      <td>10.33</td>\n",
       "      <td>16.33</td>\n",
       "      <td>24.0</td>\n",
       "      <td>/ifs/loni/faculty/thompson/four_d/sthomopo/ADN...</td>\n",
       "      <td>/ifs/loni/faculty/thompson/four_d/sthomopo/ADN...</td>\n",
       "      <td>COPYING FROM OTHER FOLDER</td>\n",
       "      <td>/ifs/loni/faculty/thompson/four_d/sthomopo/ADN...</td>\n",
       "    </tr>\n",
       "    <tr>\n",
       "      <th>2</th>\n",
       "      <td>2</td>\n",
       "      <td>007_S_2394_10</td>\n",
       "      <td>2394</td>\n",
       "      <td>007_S_2394</td>\n",
       "      <td>7</td>\n",
       "      <td>M</td>\n",
       "      <td>74.5</td>\n",
       "      <td>MCI</td>\n",
       "      <td>2.0</td>\n",
       "      <td>ADNI3 Year 1 Visit</td>\n",
       "      <td>...</td>\n",
       "      <td>28.0</td>\n",
       "      <td>-</td>\n",
       "      <td>1.0</td>\n",
       "      <td>7.67</td>\n",
       "      <td>10.67</td>\n",
       "      <td>27.0</td>\n",
       "      <td>/ifs/loni/faculty/thompson/four_d/sthomopo/ADN...</td>\n",
       "      <td>/ifs/loni/faculty/thompson/four_d/sthomopo/ADN...</td>\n",
       "      <td>/ifs/loni/faculty/thompson/four_d/sthomopo/ADN...</td>\n",
       "      <td>/ifs/loni/faculty/thompson/four_d/sthomopo/ADN...</td>\n",
       "    </tr>\n",
       "    <tr>\n",
       "      <th>3</th>\n",
       "      <td>3</td>\n",
       "      <td>007_S_2394_9</td>\n",
       "      <td>2394</td>\n",
       "      <td>007_S_2394</td>\n",
       "      <td>7</td>\n",
       "      <td>M</td>\n",
       "      <td>73.5</td>\n",
       "      <td>MCI</td>\n",
       "      <td>2.0</td>\n",
       "      <td>ADNI3 Initial Visit-Cont Pt</td>\n",
       "      <td>...</td>\n",
       "      <td>30.0</td>\n",
       "      <td>0.5</td>\n",
       "      <td>1.0</td>\n",
       "      <td>11.33</td>\n",
       "      <td>14.33</td>\n",
       "      <td>22.0</td>\n",
       "      <td>/ifs/loni/faculty/thompson/four_d/sthomopo/ADN...</td>\n",
       "      <td>/ifs/loni/faculty/thompson/four_d/sthomopo/ADN...</td>\n",
       "      <td>COPYING FROM OTHER FOLDER</td>\n",
       "      <td>/ifs/loni/faculty/thompson/four_d/sthomopo/ADN...</td>\n",
       "    </tr>\n",
       "    <tr>\n",
       "      <th>4</th>\n",
       "      <td>4</td>\n",
       "      <td>007_S_4272_10</td>\n",
       "      <td>4272</td>\n",
       "      <td>007_S_4272</td>\n",
       "      <td>7</td>\n",
       "      <td>M</td>\n",
       "      <td>78.2</td>\n",
       "      <td>MCI</td>\n",
       "      <td>2.0</td>\n",
       "      <td>ADNI3 Year 1 Visit</td>\n",
       "      <td>...</td>\n",
       "      <td>27.0</td>\n",
       "      <td>NaN</td>\n",
       "      <td>3.0</td>\n",
       "      <td>14.67</td>\n",
       "      <td>23.67</td>\n",
       "      <td>17.0</td>\n",
       "      <td>OUTPUTTING</td>\n",
       "      <td>/ifs/loni/faculty/thompson/four_d/sthomopo/ADN...</td>\n",
       "      <td>/ifs/loni/faculty/thompson/four_d/sthomopo/ADN...</td>\n",
       "      <td>OUTPUTTING</td>\n",
       "    </tr>\n",
       "  </tbody>\n",
       "</table>\n",
       "<p>5 rows × 29 columns</p>\n",
       "</div>"
      ],
      "text/plain": [
       "   order  fullSubjectID   RID   SubjectID  Site Sex   Age FinalDx  \\\n",
       "0      0   002_S_6652_1  6652  002_S_6652     2   F  86.4     MCI   \n",
       "1      1   007_S_1222_1  1222  007_S_1222     7   F  84.4      CN   \n",
       "2      2  007_S_2394_10  2394  007_S_2394     7   M  74.5     MCI   \n",
       "3      3   007_S_2394_9  2394  007_S_2394     7   M  73.5     MCI   \n",
       "4      4  007_S_4272_10  4272  007_S_4272     7   M  78.2     MCI   \n",
       "\n",
       "   FinalDx_to_number                    VisitCode  \\\n",
       "0                2.0               ADNI Screening   \n",
       "1                1.0  ADNI3 Initial Visit-Cont Pt   \n",
       "2                2.0           ADNI3 Year 1 Visit   \n",
       "3                2.0  ADNI3 Initial Visit-Cont Pt   \n",
       "4                2.0           ADNI3 Year 1 Visit   \n",
       "\n",
       "                         ...                         MMSE_MMSCORE  \\\n",
       "0                        ...                                 29.0   \n",
       "1                        ...                                 29.0   \n",
       "2                        ...                                 28.0   \n",
       "3                        ...                                 30.0   \n",
       "4                        ...                                 27.0   \n",
       "\n",
       "  CDR_CDGLOBAL CDSOB TOTSCORE  TOTAL13  MOCA  \\\n",
       "0          NaN   2.5    10.67    16.67  26.0   \n",
       "1            0   0.0    10.33    16.33  24.0   \n",
       "2            -   1.0     7.67    10.67  27.0   \n",
       "3          0.5   1.0    11.33    14.33  22.0   \n",
       "4          NaN   3.0    14.67    23.67  17.0   \n",
       "\n",
       "                                                 dwi  \\\n",
       "0                                         OUTPUTTING   \n",
       "1  /ifs/loni/faculty/thompson/four_d/sthomopo/ADN...   \n",
       "2  /ifs/loni/faculty/thompson/four_d/sthomopo/ADN...   \n",
       "3  /ifs/loni/faculty/thompson/four_d/sthomopo/ADN...   \n",
       "4                                         OUTPUTTING   \n",
       "\n",
       "                                                bval  \\\n",
       "0  /ifs/loni/faculty/thompson/four_d/sthomopo/ADN...   \n",
       "1  /ifs/loni/faculty/thompson/four_d/sthomopo/ADN...   \n",
       "2  /ifs/loni/faculty/thompson/four_d/sthomopo/ADN...   \n",
       "3  /ifs/loni/faculty/thompson/four_d/sthomopo/ADN...   \n",
       "4  /ifs/loni/faculty/thompson/four_d/sthomopo/ADN...   \n",
       "\n",
       "                                                bvec  \\\n",
       "0  /ifs/loni/faculty/thompson/four_d/sthomopo/ADN...   \n",
       "1                          COPYING FROM OTHER FOLDER   \n",
       "2  /ifs/loni/faculty/thompson/four_d/sthomopo/ADN...   \n",
       "3                          COPYING FROM OTHER FOLDER   \n",
       "4  /ifs/loni/faculty/thompson/four_d/sthomopo/ADN...   \n",
       "\n",
       "                                                mask  \n",
       "0                                         OUTPUTTING  \n",
       "1  /ifs/loni/faculty/thompson/four_d/sthomopo/ADN...  \n",
       "2  /ifs/loni/faculty/thompson/four_d/sthomopo/ADN...  \n",
       "3  /ifs/loni/faculty/thompson/four_d/sthomopo/ADN...  \n",
       "4                                         OUTPUTTING  \n",
       "\n",
       "[5 rows x 29 columns]"
      ]
     },
     "execution_count": 44,
     "metadata": {},
     "output_type": "execute_result"
    }
   ],
   "source": [
    "df_full.head()"
   ]
  },
  {
   "cell_type": "code",
   "execution_count": 47,
   "metadata": {},
   "outputs": [
    {
     "data": {
      "text/plain": [
       "array([False,  True, False, False, False, False,  True,  True,  True,\n",
       "        True,  True,  True,  True,  True,  True,  True,  True,  True,\n",
       "        True,  True,  True, False, False,  True,  True, False,  True,\n",
       "        True, False,  True, False, False,  True,  True,  True, False,\n",
       "        True, False,  True,  True, False,  True,  True, False, False,\n",
       "       False,  True, False,  True,  True, False, False, False,  True,\n",
       "       False, False, False, False, False, False, False,  True,  True,\n",
       "        True,  True,  True,  True, False,  True,  True,  True,  True,\n",
       "        True, False, False,  True,  True, False,  True, False,  True,\n",
       "        True,  True,  True, False, False,  True, False,  True, False,\n",
       "        True,  True,  True,  True,  True,  True,  True,  True,  True,\n",
       "        True,  True,  True])"
      ]
     },
     "execution_count": 47,
     "metadata": {},
     "output_type": "execute_result"
    }
   ],
   "source": [
    "hc_ind = (df_full.FinalDx==\"CN\").values\n",
    "hc_ind"
   ]
  },
  {
   "cell_type": "code",
   "execution_count": 48,
   "metadata": {},
   "outputs": [
    {
     "data": {
      "text/plain": [
       "array([ True, False,  True,  True,  True,  True, False, False, False,\n",
       "       False, False, False, False, False, False, False, False, False,\n",
       "       False, False, False,  True,  True, False, False,  True, False,\n",
       "       False,  True, False,  True,  True, False, False, False,  True,\n",
       "       False,  True, False, False,  True, False, False,  True,  True,\n",
       "        True, False,  True, False, False,  True,  True,  True, False,\n",
       "        True,  True,  True,  True,  True,  True,  True, False, False,\n",
       "       False, False, False, False,  True, False, False, False, False,\n",
       "       False,  True,  True, False, False,  True, False,  True, False,\n",
       "       False, False, False,  True,  True, False,  True, False,  True,\n",
       "       False, False, False, False, False, False, False, False, False,\n",
       "       False, False, False])"
      ]
     },
     "execution_count": 48,
     "metadata": {},
     "output_type": "execute_result"
    }
   ],
   "source": [
    "pat_ind = (df_full.FinalDx!=\"CN\").values\n",
    "pat_ind"
   ]
  },
  {
   "cell_type": "code",
   "execution_count": null,
   "metadata": {},
   "outputs": [],
   "source": []
  }
 ],
 "metadata": {
  "kernelspec": {
   "display_name": "Python 3",
   "language": "python",
   "name": "python3"
  },
  "language_info": {
   "codemirror_mode": {
    "name": "ipython",
    "version": 3
   },
   "file_extension": ".py",
   "mimetype": "text/x-python",
   "name": "python",
   "nbconvert_exporter": "python",
   "pygments_lexer": "ipython3",
   "version": "3.6.8"
  },
  "varInspector": {
   "cols": {
    "lenName": 16,
    "lenType": 16,
    "lenVar": 40
   },
   "kernels_config": {
    "python": {
     "delete_cmd_postfix": "",
     "delete_cmd_prefix": "del ",
     "library": "var_list.py",
     "varRefreshCmd": "print(var_dic_list())"
    },
    "r": {
     "delete_cmd_postfix": ") ",
     "delete_cmd_prefix": "rm(",
     "library": "var_list.r",
     "varRefreshCmd": "cat(var_dic_list()) "
    }
   },
   "types_to_exclude": [
    "module",
    "function",
    "builtin_function_or_method",
    "instance",
    "_Feature"
   ],
   "window_display": false
  }
 },
 "nbformat": 4,
 "nbformat_minor": 2
}
